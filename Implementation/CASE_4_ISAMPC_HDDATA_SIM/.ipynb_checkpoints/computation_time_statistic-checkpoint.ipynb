{
 "cells": [
  {
   "cell_type": "markdown",
   "id": "1974d159-8c2d-4e87-ada1-57dc7637b5c1",
   "metadata": {},
   "source": [
    "# Interaction-aware IMM-KF-MPC for trajectory uncertainty and maneuver uncertainty\n",
    "## 2021.05.25, Jian Zhou, Start\n",
    "## 2021.06.30，Jian Zhou, The Code Framework is bascially done\n",
    "## 2021.07.28, Jian Zhou, The Interaction-Aware IMM-KF MPC is done\n",
    "## 2021.10.10, Jian Zhou, The Maneuver uncertainty version with HDdata starts "
   ]
  },
  {
   "cell_type": "markdown",
   "id": "44614fa9-28d7-4b76-861d-1effa8489c82",
   "metadata": {},
   "source": [
    "### 1. Import"
   ]
  },
  {
   "cell_type": "code",
   "execution_count": 1,
   "id": "9d26b553-9bb5-4ef6-b8a9-16729915a12d",
   "metadata": {
    "tags": []
   },
   "outputs": [],
   "source": [
    "import numpy as np\n",
    "import math\n",
    "import time\n",
    "import matplotlib.pyplot as plt\n",
    "import matplotlib.animation as animation\n",
    "import casadi\n",
    "import scipy.linalg as sl\n",
    "from numpy.linalg import matrix_power\n",
    "from scipy.io import loadmat\n",
    "from Initialization_SV import Initialization_SV\n",
    "from Initialization_EV import Initialization_EV\n",
    "from IAIMM_KF import IAIMM_KF\n",
    "from IAIMM_KF_MPC import IAIMM_KF_MPC\n",
    "\n",
    "import pdb\n",
    "\n",
    "%matplotlib inline"
   ]
  },
  {
   "cell_type": "markdown",
   "id": "d2b9785b-e98d-4593-8dae-63441624b67c",
   "metadata": {
    "tags": []
   },
   "source": [
    "### 2. Priority list calculation, and compute vertex of car "
   ]
  },
  {
   "cell_type": "code",
   "execution_count": 2,
   "id": "491b3017-a28f-487d-8a0e-86a9497d65d3",
   "metadata": {
    "tags": []
   },
   "outputs": [],
   "source": [
    "class Priority_Sort( ):\n",
    "    \n",
    "    def __init__(self,  infinity, L_Bound, N_Car, N, Ts):\n",
    "        self.N_Car = N_Car\n",
    "        self.N = N\n",
    "        self.Ts = Ts\n",
    "        self.L_Bound = L_Bound\n",
    "        self. infinity =  infinity\n",
    "    \n",
    "    def Define_lane_location(self, Lane_position):\n",
    "        L_Bound = self.L_Bound\n",
    "        \n",
    "        if (L_Bound[0] <= Lane_position< L_Bound[1]):\n",
    "            Lane_position = 1\n",
    "        elif (L_Bound[1] <= Lane_position < L_Bound[2]):\n",
    "            Lane_position = 2\n",
    "        elif  (L_Bound[2] <= Lane_position):\n",
    "            Lane_position = 3\n",
    "        \n",
    "        return Lane_position\n",
    "    \n",
    "    def Sort(self, Y_k):\n",
    "        N_Car = self.N_Car\n",
    "        N = self.N\n",
    "        Ts = self.Ts\n",
    "        infinity = self. infinity\n",
    "        \n",
    "        list_priority = np.zeros((2, N_Car))\n",
    "        list_priority[0, :] = range(0, N_Car)\n",
    "        x_initial_1 = list([infinity]*N_Car)     # for lane 1\n",
    "        x_terminal_1 = list([infinity]*N_Car) # for lane 1\n",
    "        x_initial_2 = list([infinity]*N_Car)     # for lane 2\n",
    "        x_terminal_2 = list([infinity]*N_Car) # for lane 2\n",
    "        x_initial_3 = list([infinity]*N_Car)     # for lane 3\n",
    "        x_terminal_3 = list([infinity]*N_Car) # for lane 3\n",
    "        \n",
    "        for i in range(N_Car):\n",
    "            Lane_location = self.Define_lane_location(Y_k[i][2])\n",
    "            if Lane_location == 1: # in lane 1\n",
    "                x_initial_1[i] = Y_k[i][0]\n",
    "                x_terminal_1[i] = Y_k[i][0] + Y_k[i][1]*N*Ts\n",
    "            elif Lane_location == 2: # in lane  2\n",
    "                x_initial_2[i] = Y_k[i][0]\n",
    "                x_terminal_2[i] = Y_k[i][0] + Y_k[i][1]*N*Ts\n",
    "            elif Lane_location == 3: # in lane 3\n",
    "                x_initial_3[i] = Y_k[i][0]\n",
    "                x_terminal_3[i] = Y_k[i][0] + Y_k[i][1]*N*Ts\n",
    "\n",
    "        for i in range(N_Car):\n",
    "            x_initial_index_min_1 = np.argmin(x_initial_1) # index of leading vehicle in lane 1\n",
    "            x_terminal_min_1 = x_terminal_1[x_initial_index_min_1] # value of terminal position of this car\n",
    "\n",
    "            x_initial_index_min_2 = np.argmin(x_initial_2) # index of ;eading vehicle in lane 2\n",
    "            x_terminal_min_2 = x_terminal_2[x_initial_index_min_2] # value of terminal position of this car\n",
    "            \n",
    "            x_initial_index_min_3 = np.argmin(x_initial_3) # index of leading vehicle in lane 3\n",
    "            x_terminal_min_3 = x_terminal_3[x_initial_index_min_3] # value of terminal position of this car\n",
    "            \n",
    "            index_terminal = np.argmin([x_terminal_min_1, x_terminal_min_2, x_terminal_min_3])\n",
    "            \n",
    "            if index_terminal == 0:\n",
    "                index = x_initial_index_min_1\n",
    "                x_initial_1[index] = infinity\n",
    "                x_terminal_1[index] = infinity\n",
    "            elif index_terminal == 1:\n",
    "                index = x_initial_index_min_2\n",
    "                x_initial_2[index] = infinity\n",
    "                x_terminal_2[index] = infinity\n",
    "            elif index_terminal == 2:\n",
    "                index = x_initial_index_min_3\n",
    "                x_initial_3[index] = infinity\n",
    "                x_terminal_3[index] = infinity\n",
    "            \n",
    "            list_priority[1, index] = i\n",
    "        \n",
    "        list_use = list_priority[1, :] \n",
    "        return list_use"
   ]
  },
  {
   "cell_type": "markdown",
   "id": "53920b85-4afb-4e3b-96cd-81976faf3edf",
   "metadata": {},
   "source": [
    "### 3. Driving Model Parameters"
   ]
  },
  {
   "cell_type": "code",
   "execution_count": 3,
   "id": "286b327c-c0fd-4081-a1dd-27e34d494ac2",
   "metadata": {
    "tags": []
   },
   "outputs": [],
   "source": [
    "Model_Parameters = loadmat(r'Model_Parameters.mat')\n",
    "Model_Parameters = Model_Parameters['Model_Parameters']\n",
    "Model_Parameters = Model_Parameters[0, 0]\n",
    "\n",
    "m0 =   [Model_Parameters['m0']['Lon'][0][0][0], Model_Parameters['m0']['Lat'][0][0][0]] \n",
    "m1 =   [Model_Parameters['m1']['Lon'][0][0][0], Model_Parameters['m1']['Lat'][0][0][0]] \n",
    "m2 =   [Model_Parameters['m2']['Lon'][0][0][0], Model_Parameters['m2']['Lat'][0][0][0]] \n",
    "m3 =   [Model_Parameters['m3']['Lon'][0][0][0], Model_Parameters['m3']['Lat'][0][0][0]] \n",
    "m4 =   [Model_Parameters['m4']['Lon'][0][0][0], Model_Parameters['m4']['Lat'][0][0][0]] \n",
    "m5 =   [Model_Parameters['m5']['Lon'][0][0][0], Model_Parameters['m5']['Lat'][0][0][0]] \n",
    "m6 =   [Model_Parameters['m6']['Lon'][0][0][0], Model_Parameters['m6']['Lat'][0][0][0]] \n",
    "std_m0 = [Model_Parameters['m0']['K_set_lon'][0][0][0], Model_Parameters['m0']['std_y'][0][0][0]]\n",
    "std_m1 = [Model_Parameters['m1']['K_set_lon'][0][0][0], Model_Parameters['m1']['K_set_lat'][0][0][0]]\n",
    "std_m2 = [Model_Parameters['m2']['K_set_lon'][0][0][0], Model_Parameters['m2']['K_set_lat'][0][0][0]]\n",
    "std_m3 = [Model_Parameters['m3']['K_set_lon'][0][0][0], Model_Parameters['m3']['std_y'][0][0][0]]\n",
    "std_m4 = [Model_Parameters['m4']['K_set_lon'][0][0][0], Model_Parameters['m4']['K_set_lat'][0][0][0]]\n",
    "std_m5 = [Model_Parameters['m5']['K_set_lon'][0][0][0], Model_Parameters['m5']['K_set_lat'][0][0][0]]\n",
    "std_m6 = [Model_Parameters['m6']['K_set_lon'][0][0][0], Model_Parameters['m6']['std_y'][0][0][0]]\n",
    "\n",
    "Models = [m0, m1, m2, m3, m4, m5, m6] # submodels\n",
    "std_parameters = [std_m0, std_m1, std_m2, std_m3, std_m4, std_m5, std_m6] # parameters of standard deviation"
   ]
  },
  {
   "cell_type": "markdown",
   "id": "2e05d60f-4898-4d88-9c38-b821991ec6c7",
   "metadata": {},
   "source": [
    "### 4. Define Basic parameters"
   ]
  },
  {
   "cell_type": "code",
   "execution_count": 4,
   "id": "ca10565e-5e59-438d-8e7a-03343e3d6559",
   "metadata": {
    "tags": []
   },
   "outputs": [],
   "source": [
    "# basic parameters\n",
    "Ts = 0.32 # time interval\n",
    "N = 25   # prediction horizon\n",
    "N_Lane = 3 # number of lanes\n",
    "N_M = 7# number of sub-models of SVs\n",
    "N_Car = 7 # number of cars involving EV and SVs\n",
    "L_Width = [4, 3.56, 3.74] # width of each lane\n",
    "L_Bound = [0, 4, 7.56, 11.3] # land boundaries\n",
    "L_Center = [2, 5.78, 9.43] # lane center positions\n",
    "l_veh = 4.3 # vehicle length\n",
    "w_veh = 1.82 # vehicle width\n",
    "DSV = 6 # dimension of SVs\n",
    "Dev =  np.array([0.015, 1.8]) # threshold of phi and y\n",
    "SpeedLim = np.array([None, None, None]) # speed limit of each lane\n",
    "Weight = np.array([0.2, 0.1, 0.5, 0.2]) # weight for ax ay vx y → tunable in real traffic scenario \n",
    "H = np.array([[1, 0, 0, 0, 0, 0], [0, 1, 0, 0, 0, 0], [0, 0, 0, 1, 0, 0]])\n",
    "infinity = 100000\n",
    "Q = np.diag([1, 0.5, 0.25, 0.1, 0.1, 0]) # Q matrix in Kalman filter -- Tunable\n",
    "R = np.diag([1, 1, 1])*1e-5                  # R matrix in Kalman filter -- Tunable\n",
    "miuR = np.array([0, 0, 0])\n",
    "K_sampling = 30 # the sampling size for estimating the variance of  x and y\n",
    "\n",
    "opts_SV = {\n",
    "    'Ts': Ts,   \n",
    "    'N': N,   \n",
    "    'N_Lane': N_Lane,\n",
    "    'N_M': N_M,         \n",
    "    'N_Car': N_Car,     \n",
    "    'L_Width': L_Width, \n",
    "    'w_veh': w_veh,    \n",
    "    'l_veh': l_veh,\n",
    "    'L_Bound': L_Bound, \n",
    "    'L_Center': L_Center,\n",
    "    'DSV': DSV, \n",
    "    'infinity': infinity,\n",
    "    'SpeedLim': SpeedLim, \n",
    "    'Q': Q, \n",
    "    'R': R, \n",
    "    'Weight': Weight,\n",
    "    'H': H,\n",
    "    'Models': Models,\n",
    "    'std_parameters': std_parameters,\n",
    "    'K_sampling': K_sampling\n",
    "}"
   ]
  },
  {
   "cell_type": "markdown",
   "id": "4320e482-906e-4b74-a479-0c1a275ef7e0",
   "metadata": {},
   "source": [
    "### 4. Initialization"
   ]
  },
  {
   "cell_type": "code",
   "execution_count": 5,
   "id": "a6ca8ba6-1543-4337-9d00-b681ebc1d21d",
   "metadata": {
    "tags": []
   },
   "outputs": [],
   "source": [
    "index_EV = 7 # vertual EV\n",
    "# global initial state\n",
    "V0 = np.load('ID452.npy', allow_pickle=True).item( )\n",
    "V1 = np.load('ID454.npy', allow_pickle=True).item( )\n",
    "V2 = np.load('ID455.npy', allow_pickle=True).item( )\n",
    "V3 = np.load('ID456.npy', allow_pickle=True).item( )\n",
    "V4 = np.load('ID457.npy', allow_pickle=True).item( )\n",
    "V5 = np.load('ID458.npy', allow_pickle=True).item( )\n",
    "V6 = np.load('ID459.npy', allow_pickle=True).item( )\n",
    "SVs = [V0, V1, V2, V3, V4, V5, V6]\n",
    "\n",
    "x_0_0 = np.array([V0['x'][0], V0['vx'][0], V0['ax'][0], V0['y'][0], V0['vy'][0], V0['ay'][0]])\n",
    "x_0_1 = np.array([V1['x'][0], V1['vx'][0], V1['ax'][0], V1['y'][0], V1['vy'][0], V1['ay'][0]])\n",
    "x_0_2 = np.array([V2['x'][0], V2['vx'][0], V2['ax'][0], V2['y'][0], V2['vy'][0], V2['ay'][0]])\n",
    "x_0_3 = np.array([V3['x'][0], V3['vx'][0], V3['ax'][0], V3['y'][0], V3['vy'][0], V3['ay'][0]])\n",
    "x_0_4 = np.array([V4['x'][0], V4['vx'][0], V4['ax'][0], V4['y'][0], V4['vy'][0], V4['ay'][0]])\n",
    "x_0_5 = np.array([V5['x'][0], V5['vx'][0], V5['ax'][0], V5['y'][0], V5['vy'][0], V5['ay'][0]])\n",
    "x_0_6 = np.array([V6['x'][0], V6['vx'][0], V6['ax'][0], V6['y'][0], V6['vy'][0], V6['ay'][0]])"
   ]
  },
  {
   "cell_type": "markdown",
   "id": "752d6b96-f95e-4b5d-8104-3f1d0f91ba3e",
   "metadata": {},
   "source": [
    "### 5. Simulation"
   ]
  },
  {
   "cell_type": "markdown",
   "id": "8714b56d-fda8-4ef7-99e6-c9ea18965e22",
   "metadata": {},
   "source": [
    "#### 5.1 IAIMM-KF Prediction"
   ]
  },
  {
   "cell_type": "code",
   "execution_count": 6,
   "id": "63f3d8a8-edc4-4b78-9b37-ceb82f020c32",
   "metadata": {
    "tags": []
   },
   "outputs": [
    {
     "name": "stdout",
     "output_type": "stream",
     "text": [
      "\n",
      "******************************************************************************\n",
      "This program contains Ipopt, a library for large-scale nonlinear optimization.\n",
      " Ipopt is released as open source code under the Eclipse Public License (EPL).\n",
      "         For more information visit https://github.com/coin-or/Ipopt\n",
      "******************************************************************************\n",
      "\n"
     ]
    }
   ],
   "source": [
    "K_N = 28 # the number of all simulation steps\n",
    "IMM_KF =  IAIMM_KF(Params = opts_SV)\n",
    "\n",
    "Run_Time = 70\n",
    "Time_Record_KF = list( )\n",
    "\n",
    "for run_time in range(Run_Time):\n",
    "    X_Hat = list( ) # the estimate of state of each mode\n",
    "    MU = list( )    # the probability\n",
    "    P = list( )       # the covariance matrix in IMM-KF\n",
    "    Y = list( )       # the measurement\n",
    "    X_Po_All = list( ) # the all possible predictions\n",
    "    X_State = list( ) # the state of each car at every step\n",
    "    X_Var = list( ) # the x trajectory variance of all models of all targets \n",
    "    Y_Var  = list( ) # the y trajectory variance of all models of all targets\n",
    "    X_Pre = list( )\n",
    "\n",
    "    X_State_0 = [x_0_0, x_0_1, x_0_2, x_0_3, x_0_4, x_0_5, x_0_6]\n",
    "    X_State.append(X_State_0) # state at step 0\n",
    "\n",
    "    # initialization of SV\n",
    "    Initial_SV =Initialization_SV(Params = opts_SV)\n",
    "    MU_0, M_0, Y_0, X_Hat_0, P_0, X_Pre_0, X_Po_All_0, X_Var_0, Y_Var_0,  REF_Speed_0, REF_Lane_0, REF_Speed_All_0 = Initial_SV.Initialize_MU_M_P(X_State)\n",
    "\n",
    "    # initial  storage for SVs \n",
    "    MU.append(MU_0)\n",
    "    Y.append(Y_0)\n",
    "    X_Hat.append(X_Hat_0)\n",
    "    X_Po_All.append(X_Po_All_0)\n",
    "    X_Var.append(X_Var_0)\n",
    "    Y_Var.append(Y_Var_0)\n",
    "    P.append(P_0)\n",
    "    X_Pre.append(X_Pre_0)\n",
    "\n",
    "    # initialize priority\n",
    "    Sorting = Priority_Sort(infinity = infinity, L_Bound = L_Bound, N_Car = N_Car, N = N, Ts = Ts)\n",
    "\n",
    "    for k in range(1, K_N):\n",
    "        Y_k = list( )\n",
    "        y_k_0 = np.array([V0['x'][k], V0['vx'][k], V0['y'][k]]) + np.random.multivariate_normal(miuR, R)\n",
    "        y_k_1 = np.array([V1['x'][k], V1['vx'][k], V1['y'][k]]) + np.random.multivariate_normal(miuR, R)\n",
    "        y_k_2 = np.array([V2['x'][k], V2['vx'][k], V2['y'][k]]) + np.random.multivariate_normal(miuR, R)\n",
    "        y_k_3 = np.array([V3['x'][k], V3['vx'][k], V3['y'][k]]) + np.random.multivariate_normal(miuR, R)\n",
    "        y_k_4 = np.array([V4['x'][k], V4['vx'][k], V4['y'][k]]) + np.random.multivariate_normal(miuR, R)\n",
    "        y_k_5 = np.array([V5['x'][k], V5['vx'][k], V5['y'][k]]) + np.random.multivariate_normal(miuR, R)\n",
    "        y_k_6 = np.array([V6['x'][k], V6['vx'][k], V6['y'][k]]) + np.random.multivariate_normal(miuR, R)\n",
    "        Y_k = [y_k_0, y_k_1, y_k_2, y_k_3, y_k_4, y_k_5, y_k_6,]\n",
    "        list_k = Sorting.Sort(Y_k)\n",
    "        Y.append(Y_k)\n",
    "        MU_k = [None]*N_Car # level 2 with car \n",
    "        X_Hat_k = [None]*N_Car # level 2 with car\n",
    "        X_State_k = [None]*N_Car # level 2 with car\n",
    "        P_k = [None]*N_Car     # level 2 with car\n",
    "        Obst_k = [None]*N_Car # level 2 with car\n",
    "        X_Po_All_k = [None]*N_Car # level 2 with car\n",
    "        X_Var_k = [None]*N_Car # level 2 with car\n",
    "        Y_Var_k = [None]*N_Car # level 2 with car\n",
    "        X_Pre_k = [None]*N_Car\n",
    "        for i in range(N_Car):\n",
    "                car_index = np.argwhere(list_k == np.max(list_k)) # car_index is car_index\n",
    "                car_index = car_index[0][0]\n",
    "                list_k[car_index] = -1\n",
    "                start_KF = time.perf_counter( )\n",
    "                Ref_speed, Ref_lane, mu_k, m_k, x_hat_k, p_k, x_state_k, x_pre_k,  REF, x_po_all_k, x_var_k, y_var_k = IMM_KF.Final_Return(k, MU, X_Hat, P, Y, Obst_k, car_index)\n",
    "                end_KF = time.perf_counter( )\n",
    "                Time_Record_KF.append(end_KF - start_KF)\n",
    "                X_State_k[car_index] = x_state_k\n",
    "                P_k[car_index] = p_k\n",
    "                X_Po_All_k[car_index] = x_po_all_k    \n",
    "                Obst_k[car_index] = x_pre_k\n",
    "                X_Var_k[car_index] = x_var_k\n",
    "                Y_Var_k[car_index] = y_var_k\n",
    "                MU_k[car_index] = mu_k\n",
    "                X_Hat_k[car_index] = x_hat_k\n",
    "                X_Pre_k[car_index] = x_pre_k\n",
    "\n",
    "        MU.append(MU_k)\n",
    "        X_Hat.append(X_Hat_k)\n",
    "        X_State.append(X_State_k)\n",
    "        P.append(P_k)\n",
    "        X_Po_All.append(X_Po_All_k)\n",
    "        X_Var.append(X_Var_k)\n",
    "        Y_Var.append(Y_Var_k)\n",
    "        X_Pre.append(X_Pre_k)"
   ]
  },
  {
   "cell_type": "markdown",
   "id": "0b8ef2a6-d094-4a62-91c7-7eb02f23bf69",
   "metadata": {},
   "source": [
    "#### 5.2 MPC Initialization"
   ]
  },
  {
   "cell_type": "code",
   "execution_count": 7,
   "id": "c68b1cfc-66ad-416d-b435-995da4c49676",
   "metadata": {
    "tags": []
   },
   "outputs": [],
   "source": [
    "# basic parameters\n",
    "N_M_EV = 3 # number of sub-models of EV\n",
    "DEV = 8 # dimension of EV\n",
    "Th_long = 1     # long time headway  → Tunable in real traffic scenario\n",
    "Th_short = 0.5 # short time headway → Tunable in real traffic scenario\n",
    "K_Lon_EV = np.array([0.1029, 0.3423])\n",
    "K_Lat_EV  = np.array([0.0984, 0.4656, 0.5417])\n",
    "l_f = 1.446  # vehicle parameter\n",
    "l_r =1.477   # vehicle parameter\n",
    "epsilon = 0.8 # the safety parameter of MPC\n",
    "\n",
    "opts_EV = { # parameters of EV\n",
    "    'index_EV': index_EV,\n",
    "    'Ts': Ts,     \n",
    "    'N': N,   \n",
    "    'N_Lane': N_Lane,\n",
    "    'N_M': N_M, \n",
    "    'N_M_EV': N_M_EV, \n",
    "    'N_Car': N_Car,  \n",
    "    'L_Center': L_Center, \n",
    "    'L_Bound': L_Bound, \n",
    "    'w_veh': w_veh, \n",
    "    'l_veh': l_veh,\n",
    "    'zeta_l': 0.5,\n",
    "    'zeta_w': 0.5,\n",
    "    'zeta_EV': 0.5,\n",
    "    'Th_MPC': Th_short, \n",
    "    'Th_QP': Th_long, \n",
    "    'DSV': DSV,       \n",
    "    'DEV': DEV,   \n",
    "    'Dev': Dev, \n",
    "    'K_Lon_EV': K_Lon_EV,\n",
    "    'K_Lat_EV': K_Lat_EV,\n",
    "    'l_f': l_f,  \n",
    "    'l_r': l_r,  \n",
    "    'SpeedLim': SpeedLim, \n",
    "    'Weight': Weight,\n",
    "    'H': H, \n",
    "    'infinity': infinity,\n",
    "    'Models': Models,\n",
    "    'Q_Initial': [0.5, 0.1, 0.5, 0.1, 0.05, 1, 0.055],\n",
    "    'epsilon': epsilon,\n",
    "    'Q1': 0.5, \n",
    "    'Q2': 0.1, \n",
    "    'Q3': 0.5, \n",
    "    'Q4': 0.1, \n",
    "    'Q5': 0.05, \n",
    "    'Q6': 0.5, \n",
    "    'Q7': 0.055, \n",
    "}"
   ]
  },
  {
   "cell_type": "code",
   "execution_count": 8,
   "id": "e2a227c3-53f6-46b5-b6bf-826c392ea715",
   "metadata": {
    "tags": []
   },
   "outputs": [],
   "source": [
    "x_0_EV_glo = x_0_5 # virtual EV is appointed as SV5\n",
    "x_0_EV_loc = np.array([V5['x'][0], V5['y'][0], -np.arctan2(V5['vy'][0], V5['vx'][0]), V5['vx'][0], V5['ax'][0], 0, 0, 0])\n",
    "\n",
    "Y_EV = list( ) # measurement of EV\n",
    "X_State_EV_LOC = list( ) # the local state of ego car at every step\n",
    "X_State_EV_GLO = list( )  # the global state of EV at every step\n",
    "\n",
    "# initialization of EV\n",
    "Initial_EV = Initialization_EV(Params = opts_EV)\n",
    "mu_0, m_0,  x_hat_0, x_pre_0, Traj_0, state_1_loc, state_1_glo, y_0, y_1, GMM_SV_0, RefSpeed_EV_0, REF_EV_0  = Initial_EV.Initialization_MPC(x_0_EV_glo, x_0_EV_loc, X_State_0, index_EV, X_Pre_0)\n",
    "\n",
    "Y_EV.append(y_0)\n",
    "Y_EV.append(y_1)\n",
    "X_State_EV_LOC.append(x_0_EV_loc)   # step 0\n",
    "X_State_EV_GLO.append(x_0_EV_glo)  # step 0\n",
    "X_State_EV_LOC.append(state_1_loc)  # step 1\n",
    "X_State_EV_GLO.append(state_1_glo) # step 1\n",
    "\n",
    "# initialize priority\n",
    "Sorting = Priority_Sort(infinity = infinity, L_Bound = L_Bound, N_Car = N_Car+1, N = N, Ts = Ts)"
   ]
  },
  {
   "cell_type": "markdown",
   "id": "a242e1b3-1ab7-45a8-9704-20b3c357d27a",
   "metadata": {},
   "source": [
    "#### 5.2 MPC Planning"
   ]
  },
  {
   "cell_type": "code",
   "execution_count": 9,
   "id": "4fb47548-a43d-4628-a217-4f1b7ae3a265",
   "metadata": {
    "tags": []
   },
   "outputs": [],
   "source": [
    "K_N = 28 # the number of all simulation steps\n",
    "N_Car = N_Car + 1\n",
    "MPC =  IAIMM_KF_MPC(Params = opts_EV) \n",
    "Sorting = Priority_Sort(infinity = infinity, L_Bound = L_Bound, N_Car = N_Car, N = N, Ts = Ts)\n",
    "\n",
    "Time_Record_MPC = list( )\n",
    "Time_Record_OCP = list( )\n",
    "\n",
    "for run_time in range(Run_Time):\n",
    "    for k in range(1, K_N):\n",
    "        Y_rank_k = Y[k]\n",
    "        Y_rank_k.append(Y_EV[k])\n",
    "        list_EV_k= Sorting.Sort(Y_rank_k)\n",
    "        priority_EV = list_EV_k[-1] # priority of the EV\n",
    "        TV_involve = np.where(list_EV_k > priority_EV)\n",
    "        Obst_EV_k = [None]*N_Car\n",
    "        for i in range(len(TV_involve[0])):\n",
    "            if TV_involve[0][i] != 5:\n",
    "                Obst_EV_k[TV_involve[0][i]] = X_Pre[k][TV_involve[0][i]]\n",
    "        y_k = Y[k][car_index] # level 3, array without shape, column array, the measurement of current step    \n",
    "        start_MPC = time.perf_counter( )\n",
    "        Ref_speed, Ref_lane, mu_k, m_k, x_hat_k, x_pre_k, Traj_k, state_k_plus_1_loc, state_k_plus_1_glo, y_k_plus_1, GMM_SV_k, REF_Speed_All, ocp_time = MPC.Final_Return_Com_Time(k, X_State_EV_LOC, X_State_EV_GLO, Obst_EV_k, Y_EV[k], X_Po_All[k], MU[k], X_Var[k], Y_Var[k])\n",
    "        end_MPC = time.perf_counter( )\n",
    "        Time_Record_MPC.append(end_MPC - start_MPC)\n",
    "        Time_Record_OCP.append(ocp_time)\n",
    "        Y_EV.append(y_k_plus_1)\n",
    "        X_State_EV_LOC.append(state_k_plus_1_loc)   # step 0\n",
    "        X_State_EV_GLO.append(state_k_plus_1_glo)  # step 0"
   ]
  },
  {
   "cell_type": "code",
   "execution_count": 10,
   "id": "7fbd2089-ec0e-4d7b-ac96-b037f2b56420",
   "metadata": {
    "tags": []
   },
   "outputs": [
    {
     "name": "stdout",
     "output_type": "stream",
     "text": [
      "13230\n",
      "1890\n",
      "0.19195582443655787\n",
      "0.12431531216408032\n",
      "0.06764051227247754\n",
      "0.030902222544979836\n"
     ]
    }
   ],
   "source": [
    "print(len(Time_Record_KF))\n",
    "print(len(Time_Record_MPC))\n",
    "print((np.sum(Time_Record_KF) + np.sum(Time_Record_MPC))/((K_N - 1)*Run_Time))\n",
    "print((np.sum(Time_Record_KF))/((K_N - 1)*Run_Time))\n",
    "print((np.sum(Time_Record_MPC))/((K_N - 1)*Run_Time))\n",
    "print((np.sum(Time_Record_OCP))/((K_N - 1)*Run_Time))"
   ]
  },
  {
   "cell_type": "code",
   "execution_count": 11,
   "id": "a302d583-118f-4cc2-937a-8eb6cc73e1d2",
   "metadata": {},
   "outputs": [],
   "source": [
    "np.save('SIM4_Time_Record_KF_08.npy', np.array(Time_Record_KF))\n",
    "np.save('SIM4_Time_Record_MPC_08.npy', np.array(Time_Record_MPC))\n",
    "np.save('SIM4_Time_Record_OCP_08.npy', np.array(Time_Record_OCP))"
   ]
  }
 ],
 "metadata": {
  "kernelspec": {
   "display_name": "Python 3 (ipykernel)",
   "language": "python",
   "name": "python3"
  },
  "language_info": {
   "codemirror_mode": {
    "name": "ipython",
    "version": 3
   },
   "file_extension": ".py",
   "mimetype": "text/x-python",
   "name": "python",
   "nbconvert_exporter": "python",
   "pygments_lexer": "ipython3",
   "version": "3.10.6"
  }
 },
 "nbformat": 4,
 "nbformat_minor": 5
}
